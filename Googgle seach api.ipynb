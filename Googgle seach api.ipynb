{
 "cells": [
  {
   "cell_type": "code",
   "execution_count": 16,
   "id": "b6f497b5",
   "metadata": {},
   "outputs": [],
   "source": [
    "#Access a website via Python\n",
    "\n",
    "import requests\n",
    "session = requests.Session()\n",
    "url = 'https://www.google.com/search?q=Will+it+rain+today+in+Amsterdam'\n",
    "result = session.get(url) \n",
    "output = result.text"
   ]
  },
  {
   "cell_type": "code",
   "execution_count": 17,
   "id": "2450bc7f",
   "metadata": {},
   "outputs": [
    {
     "name": "stdout",
     "output_type": "stream",
     "text": [
      "{'kind': 'customsearch#search', 'url': {'type': 'application/json', 'template': 'https://www.googleapis.com/customsearch/v1?q={searchTerms}&num={count?}&start={startIndex?}&lr={language?}&safe={safe?}&cx={cx?}&sort={sort?}&filter={filter?}&gl={gl?}&cr={cr?}&googlehost={googleHost?}&c2coff={disableCnTwTranslation?}&hq={hq?}&hl={hl?}&siteSearch={siteSearch?}&siteSearchFilter={siteSearchFilter?}&exactTerms={exactTerms?}&excludeTerms={excludeTerms?}&linkSite={linkSite?}&orTerms={orTerms?}&relatedSite={relatedSite?}&dateRestrict={dateRestrict?}&lowRange={lowRange?}&highRange={highRange?}&searchType={searchType}&fileType={fileType?}&rights={rights?}&imgSize={imgSize?}&imgType={imgType?}&imgColorType={imgColorType?}&imgDominantColor={imgDominantColor?}&alt=json'}, 'queries': {'request': [{'title': 'Google Custom Search - Will it rain today in Amsterdam?', 'totalResults': '46600000', 'searchTerms': 'Will it rain today in Amsterdam?', 'count': 5, 'startIndex': 1, 'inputEncoding': 'utf8', 'outputEncoding': 'utf8', 'safe': 'off', 'cx': 'e3c7e04afcddc43ee'}], 'nextPage': [{'title': 'Google Custom Search - Will it rain today in Amsterdam?', 'totalResults': '46600000', 'searchTerms': 'Will it rain today in Amsterdam?', 'count': 5, 'startIndex': 6, 'inputEncoding': 'utf8', 'outputEncoding': 'utf8', 'safe': 'off', 'cx': 'e3c7e04afcddc43ee'}]}, 'context': {'title': 'm'}, 'searchInformation': {'searchTime': 0.651586, 'formattedSearchTime': '0.65', 'totalResults': '46600000', 'formattedTotalResults': '46,600,000'}, 'items': [{'kind': 'customsearch#result', 'title': 'Hourly forecast for Amsterdam, Netherlands - Weather', 'htmlTitle': 'Hourly forecast for <b>Amsterdam</b>, Netherlands - <b>Weather</b>', 'link': 'https://www.timeanddate.com/weather/netherlands/amsterdam/hourly', 'displayLink': 'www.timeanddate.com', 'snippet': 'Currently: 54 °F. Clear. (Weather station: Amsterdam Schiphol Airport, Netherlands). See more current weather. ×. Advertising: Content continues below ad.', 'htmlSnippet': 'Currently: 54 °F. Clear. (<b>Weather</b> station: <b>Amsterdam</b> Schiphol Airport, Netherlands). See more <b>current weather</b>. ×. Advertising: Content continues below ad.', 'cacheId': 'jozRYIkUDL0J', 'formattedUrl': 'https://www.timeanddate.com/weather/netherlands/amsterdam/hourly', 'htmlFormattedUrl': 'https://www.timeanddate.com/<b>weather</b>/netherlands/<b>amsterdam</b>/hourly', 'pagemap': {'cse_thumbnail': [{'src': 'https://encrypted-tbn1.gstatic.com/images?q=tbn:ANd9GcS-H0nLDbf8IJ81JkQy_ntAsgcEUSlY7HKXW1mnCpMsbV-ZoniP12tPcP8', 'width': '306', 'height': '165'}], 'metatags': [{'og:image': 'https://www.timeanddate.com/scripts/cityog.php?title=Hour-by-Hour%20Weather%20Forecast%20for&tint=0x007b7a&city=Amsterdam&country=Netherlands&image=amsterdam1', 'og:image:width': '1366', 'og:type': 'website', 'viewport': 'width=device-width,initial-scale=1.0', 'og:image:height': '768'}], 'cse_image': [{'src': 'https://www.timeanddate.com/scripts/cityog.php?title=Hour-by-Hour%20Weather%20Forecast%20for&tint=0x007b7a&city=Amsterdam&country=Netherlands&image=amsterdam1'}]}}, {'kind': 'customsearch#result', 'title': 'Amsterdam, North Holland, Netherlands Today, Tonight ...', 'htmlTitle': '<b>Amsterdam</b>, North Holland, Netherlands <b>Today</b>, <b>Tonight</b> ...', 'link': 'https://www.accuweather.com/en/nl/amsterdam/249758/weather-forecast/249758', 'displayLink': 'www.accuweather.com', 'snippet': \"Get the forecast for today, tonight & tomorrow's weather for Amsterdam, ... The risk of experiencing weather-related arthritis pain is very high.\", 'htmlSnippet': 'Get the forecast for <b>today</b>, <b>tonight</b> &amp; tomorrow&#39;s <b>weather</b> for <b>Amsterdam</b>, ... The risk of experiencing <b>weather</b>-related arthritis pain <b>is</b> very high.', 'cacheId': 'Kr10Y4yHRCYJ', 'formattedUrl': 'https://www.accuweather.com/en/nl/amsterdam/249758/weather.../249758', 'htmlFormattedUrl': 'https://www.accu<b>weather</b>.com/en/nl/<b>amsterdam</b>/249758/<b>weather</b>.../249758', 'pagemap': {'cse_thumbnail': [{'src': 'https://encrypted-tbn3.gstatic.com/images?q=tbn:ANd9GcTuL3Cl1PGFBllvcwU4b4wHJPPefT6kVDqeEeO7j9LjXQpxbXqUOc2DOh1U', 'width': '225', 'height': '225'}], 'postaladdress': [{'addresslocality': 'Amstelveen', 'addressregion': 'North Holland'}, {'addresslocality': 'Haarlem', 'addressregion': 'North Holland'}, {'addresslocality': 'Utrecht', 'addressregion': 'Utrecht'}], 'metatags': [{'og:image': 'https://www.accuweather.com/images/logos/aw-logo-og-meta.png', 'twitter:app:url:iphone': 'https://apps.apple.com/US/app/id300048137?mt=8', 'twitter:app:id:googleplay': 'com.accuweather.android', 'twitter:card': 'summary', 'twitter:app:url:ipad': 'https://apps.apple.com/US/app/id300048137?mt=8', 'twitter:app:name:googleplay': 'AccuWeather Winter weather alerts & forecast radar', 'twitter:app:id:iphone': 'U7D6TVQ9TT.com.yourcompany.TestWithCustomTabs', 'og:description': \"Get the forecast for today, tonight & tomorrow's weather for Amsterdam, North Holland, Netherlands. Hi/Low, RealFeel®, precip, radar, & everything you need to be ready for the day, commute, and weekend!\", 'twitter:creator': 'https://twitter.com/accuweather', 'og:image:secure_url': 'https://www.accuweather.com/images/logos/aw-logo-og-meta.png', 'twitter:image': 'https://www.accuweather.com/images/logos/aw-logo-og-meta.png', 'twitter:text:title': \"Amsterdam, North Holland, Netherlands Today, Tonight & Tomorrow's Weather Forecast | AccuWeather\", 'twitter:site': 'https://twitter.com/accuweather', 'fb:profile_id': 'AccuWeather', 'og:type': 'website', 'twitter:title': \"Amsterdam, North Holland, Netherlands Today, Tonight & Tomorrow's Weather Forecast | AccuWeather\", 'twitter:site:id': 'https://twitter.com/accuweather', 'og:image:url': 'https://www.accuweather.com/images/logos/aw-logo-og-meta.png', 'og:title': \"Amsterdam, North Holland, Netherlands Today, Tonight & Tomorrow's Weather Forecast | AccuWeather\", 'twitter:app:id:ipad': 'U7D6TVQ9TT.com.yourcompany.TestWithCustomTabs', 'fb:pages': '71781612888', 'site_name': 'AccuWeather', 'referrer': 'origin', 'fb:app_id': '132437483467956', 'twitter:app:url:googleplay': 'https://play.google.com/store/apps/details?id=com.accuweather.android', 'twitter:creator:id': 'https://twitter.com/accuweather', 'twitter:app:name:ipad': 'AccuWeather: Weather Tracker', 'viewport': 'width=device-width, initial-scale=1.0', 'twitter:description': \"Get the forecast for today, tonight & tomorrow's weather for Amsterdam, North Holland, Netherlands. Hi/Low, RealFeel®, precip, radar, & everything you need to be ready for the day, commute, and weekend!\", 'og:url': 'https://www.accuweather.com/en/nl/amsterdam/249758/weather-forecast/249758', 'twitter:app:name:iphone': 'AccuWeather: Weather Tracker'}], 'cse_image': [{'src': 'https://www.accuweather.com/images/logos/aw-logo-og-meta.png'}]}}, {'kind': 'customsearch#result', 'title': 'Amsterdam - BBC Weather', 'htmlTitle': '<b>Amsterdam</b> - BBC <b>Weather</b>', 'link': 'https://www.bbc.com/weather/2759794', 'displayLink': 'www.bbc.com', 'snippet': '14-day weather forecast for Amsterdam. ... A gentle breeze from the south. See more weather for. Saturday 22nd. Last updated today at 09:02\\xa0...', 'htmlSnippet': '14-day <b>weather</b> forecast for <b>Amsterdam</b>. ... A gentle breeze from the south. See more <b>weather</b> for. Saturday 22nd. Last updated <b>today</b> at 09:02&nbsp;...', 'formattedUrl': 'https://www.bbc.com/weather/2759794', 'htmlFormattedUrl': 'https://www.bbc.com/<b>weather</b>/2759794', 'pagemap': {'cse_thumbnail': [{'src': 'https://encrypted-tbn1.gstatic.com/images?q=tbn:ANd9GcTzYRYG9i659vlbzUwci7lpEI3U_kCp7KGN9-3SxGWg8XZYWBETHcK1bkY', 'width': '225', 'height': '225'}], 'metatags': [{'msapplication-tilecolor': '#067EB3', 'og:image': '//m.files.bbci.co.uk/modules/bbc-morph-wr-page-metadata/3.0.2/og-image.png', 'twitter:card': 'summary', 'og:type': 'article', 'twitter:site': '@BBCWeather', 'og:site_name': 'BBC Weather', 'viewport': 'width=device-width, initial-scale=1, user-scalable=1', 'og:title': 'Amsterdam - BBC Weather', 'msapplication-tileimage': '//m.files.bbci.co.uk/modules/bbc-morph-wr-page-metadata/3.0.2/pin-logo.png', 'og:url': 'https://www.bbc.com/weather/2759794', 'twitter:creator': '@BBCWeather', 'og:description': '14-day weather forecast for Amsterdam.'}], 'cse_image': [{'src': 'https://weather-tiles-basemap.files.bbci.co.uk/basemap-2018.11.05/global/7/65/86.jpg'}]}}, {'kind': 'customsearch#result', 'title': 'Amsterdam, Netherlands Precipitation Forecast | Weather ...', 'htmlTitle': '<b>Amsterdam</b>, Netherlands Precipitation Forecast | <b>Weather</b> ...', 'link': 'https://www.wunderground.com/precipitation/nl/amsterdam', 'displayLink': 'www.wunderground.com', 'snippet': '7-hour rain and snow forecast for Amsterdam, NL with 24-hour rain accumulation, radar and satellite maps of precipitation by Weather Underground.', 'htmlSnippet': '7-hour <b>rain</b> and snow forecast for <b>Amsterdam</b>, NL with 24-hour <b>rain</b> accumulation, radar and satellite maps of precipitation by <b>Weather</b> Underground.', 'cacheId': 'CmoWlzP_tCkJ', 'formattedUrl': 'https://www.wunderground.com/precipitation/nl/amsterdam', 'htmlFormattedUrl': 'https://www.wunderground.com/precipitation/nl/<b>amsterdam</b>', 'pagemap': {'metatags': [{'theme-color': '#1976d2', 'viewport': 'width=device-width, initial-scale=1'}]}}, {'kind': 'customsearch#result', 'title': 'Amsterdam NY', 'htmlTitle': '<b>Amsterdam</b> NY', 'link': 'https://forecast.weather.gov/zipcity.php?inputstring=Amsterdam,NY', 'displayLink': 'forecast.weather.gov', 'snippet': 'Amsterdam NY. Tonight. Tonight: Increasing clouds, with a low around 38. ... Chance of precipitation is 40%. ... Albany National Weather Service.', 'htmlSnippet': '<b>Amsterdam</b> NY. <b>Tonight</b>. <b>Tonight</b>: Increasing clouds, with a low around 38. ... Chance of precipitation <b>is</b> 40%. ... Albany National <b>Weather</b> Service.', 'cacheId': '5iFH7-O14ZIJ', 'formattedUrl': 'https://forecast.weather.gov/zipcity.php?inputstring=Amsterdam,NY', 'htmlFormattedUrl': 'https://forecast.<b>weather</b>.gov/zipcity.php?inputstring=<b>Amsterdam</b>,NY', 'pagemap': {'metatags': [{'dc.publisher': \"NOAA's National Weather Service\", 'dc.description': 'NOAA National Weather Service National Weather Service', 'viewport': 'width=device-width', 'dc.creator': 'US Department of Commerce, NOAA, National Weather Service', 'dc.title': 'National Weather Service', 'dc.rights': '//www.weather.gov/disclaimer.php', 'rating': 'General', 'dc.language': 'EN-US', 'dc.keywords': 'weather, National Weather Service', 'dc.contributor': 'National Weather Service'}]}}]}\n"
     ]
    }
   ],
   "source": [
    "# Google search output with Json Format\n",
    "from googleapiclient.discovery import build\n",
    "import json\n",
    "\n",
    "\n",
    "def google_search(search_term: str, api_key: str, cse_id: str, **kwargs) -> json:\n",
    "  # \"\"\"Perform a Google search using Custom Search API\"\"\"\n",
    "    # Build request\n",
    "    service = build(\"customsearch\", \"v1\", developerKey=api_key)\n",
    "    # Execute request\n",
    "    query_result = service.cse().list(q=search_term, cx=cse_id, **kwargs).execute()\n",
    "    return query_result\n",
    "\n",
    "# Initialize search parameters\n",
    "my_api_key = 'AIzaSyDYeen5YDXqgvYf7D9Gic_sEgxWMSnxbhwm' #'Google API Key'\n",
    "my_cse_id = 'e3c7e04afcddc43eem' #'Google Custom Search Engine ID'\n",
    "search_term = 'Will it rain today in Amsterdam?'\n",
    "num_search_results = 5\n",
    "\n",
    "# Execute search\n",
    "query_result = google_search(search_term, my_api_key, my_cse_id, num = num_search_results) \n",
    "\n",
    "# Print result\n",
    "print(query_result)\n",
    "\n",
    "# Store result\n",
    "#with open('output_data.txt', 'w') as output_file:\n",
    "#        json.dump(query_result, output_file)"
   ]
  },
  {
   "cell_type": "code",
   "execution_count": 21,
   "id": "7a73b039",
   "metadata": {},
   "outputs": [
    {
     "data": {
      "text/plain": [
       "dict_keys(['kind', 'url', 'queries', 'context', 'searchInformation', 'items'])"
      ]
     },
     "execution_count": 21,
     "metadata": {},
     "output_type": "execute_result"
    }
   ],
   "source": [
    "query_result.keys()"
   ]
  },
  {
   "cell_type": "code",
   "execution_count": 25,
   "id": "2647ba2e",
   "metadata": {},
   "outputs": [
    {
     "data": {
      "text/html": [
       "<div>\n",
       "<style scoped>\n",
       "    .dataframe tbody tr th:only-of-type {\n",
       "        vertical-align: middle;\n",
       "    }\n",
       "\n",
       "    .dataframe tbody tr th {\n",
       "        vertical-align: top;\n",
       "    }\n",
       "\n",
       "    .dataframe thead th {\n",
       "        text-align: right;\n",
       "    }\n",
       "</style>\n",
       "<table border=\"1\" class=\"dataframe\">\n",
       "  <thead>\n",
       "    <tr style=\"text-align: right;\">\n",
       "      <th></th>\n",
       "      <th>kind</th>\n",
       "      <th>title</th>\n",
       "      <th>htmlTitle</th>\n",
       "      <th>link</th>\n",
       "      <th>displayLink</th>\n",
       "      <th>snippet</th>\n",
       "      <th>htmlSnippet</th>\n",
       "      <th>cacheId</th>\n",
       "      <th>formattedUrl</th>\n",
       "      <th>htmlFormattedUrl</th>\n",
       "      <th>pagemap</th>\n",
       "    </tr>\n",
       "  </thead>\n",
       "  <tbody>\n",
       "    <tr>\n",
       "      <th>0</th>\n",
       "      <td>customsearch#result</td>\n",
       "      <td>Hourly forecast for Amsterdam, Netherlands - W...</td>\n",
       "      <td>Hourly forecast for &lt;b&gt;Amsterdam&lt;/b&gt;, Netherla...</td>\n",
       "      <td>https://www.timeanddate.com/weather/netherland...</td>\n",
       "      <td>www.timeanddate.com</td>\n",
       "      <td>Currently: 54 °F. Clear. (Weather station: Ams...</td>\n",
       "      <td>Currently: 54 °F. Clear. (&lt;b&gt;Weather&lt;/b&gt; stati...</td>\n",
       "      <td>jozRYIkUDL0J</td>\n",
       "      <td>https://www.timeanddate.com/weather/netherland...</td>\n",
       "      <td>https://www.timeanddate.com/&lt;b&gt;weather&lt;/b&gt;/net...</td>\n",
       "      <td>{'cse_thumbnail': [{'src': 'https://encrypted-...</td>\n",
       "    </tr>\n",
       "    <tr>\n",
       "      <th>1</th>\n",
       "      <td>customsearch#result</td>\n",
       "      <td>Amsterdam, North Holland, Netherlands Today, T...</td>\n",
       "      <td>&lt;b&gt;Amsterdam&lt;/b&gt;, North Holland, Netherlands &lt;...</td>\n",
       "      <td>https://www.accuweather.com/en/nl/amsterdam/24...</td>\n",
       "      <td>www.accuweather.com</td>\n",
       "      <td>Get the forecast for today, tonight &amp; tomorrow...</td>\n",
       "      <td>Get the forecast for &lt;b&gt;today&lt;/b&gt;, &lt;b&gt;tonight&lt;...</td>\n",
       "      <td>Kr10Y4yHRCYJ</td>\n",
       "      <td>https://www.accuweather.com/en/nl/amsterdam/24...</td>\n",
       "      <td>https://www.accu&lt;b&gt;weather&lt;/b&gt;.com/en/nl/&lt;b&gt;am...</td>\n",
       "      <td>{'cse_thumbnail': [{'src': 'https://encrypted-...</td>\n",
       "    </tr>\n",
       "    <tr>\n",
       "      <th>2</th>\n",
       "      <td>customsearch#result</td>\n",
       "      <td>Amsterdam - BBC Weather</td>\n",
       "      <td>&lt;b&gt;Amsterdam&lt;/b&gt; - BBC &lt;b&gt;Weather&lt;/b&gt;</td>\n",
       "      <td>https://www.bbc.com/weather/2759794</td>\n",
       "      <td>www.bbc.com</td>\n",
       "      <td>14-day weather forecast for Amsterdam. ... A g...</td>\n",
       "      <td>14-day &lt;b&gt;weather&lt;/b&gt; forecast for &lt;b&gt;Amsterda...</td>\n",
       "      <td>NaN</td>\n",
       "      <td>https://www.bbc.com/weather/2759794</td>\n",
       "      <td>https://www.bbc.com/&lt;b&gt;weather&lt;/b&gt;/2759794</td>\n",
       "      <td>{'cse_thumbnail': [{'src': 'https://encrypted-...</td>\n",
       "    </tr>\n",
       "    <tr>\n",
       "      <th>3</th>\n",
       "      <td>customsearch#result</td>\n",
       "      <td>Amsterdam, Netherlands Precipitation Forecast ...</td>\n",
       "      <td>&lt;b&gt;Amsterdam&lt;/b&gt;, Netherlands Precipitation Fo...</td>\n",
       "      <td>https://www.wunderground.com/precipitation/nl/...</td>\n",
       "      <td>www.wunderground.com</td>\n",
       "      <td>7-hour rain and snow forecast for Amsterdam, N...</td>\n",
       "      <td>7-hour &lt;b&gt;rain&lt;/b&gt; and snow forecast for &lt;b&gt;Am...</td>\n",
       "      <td>CmoWlzP_tCkJ</td>\n",
       "      <td>https://www.wunderground.com/precipitation/nl/...</td>\n",
       "      <td>https://www.wunderground.com/precipitation/nl/...</td>\n",
       "      <td>{'metatags': [{'theme-color': '#1976d2', 'view...</td>\n",
       "    </tr>\n",
       "    <tr>\n",
       "      <th>4</th>\n",
       "      <td>customsearch#result</td>\n",
       "      <td>Amsterdam NY</td>\n",
       "      <td>&lt;b&gt;Amsterdam&lt;/b&gt; NY</td>\n",
       "      <td>https://forecast.weather.gov/zipcity.php?input...</td>\n",
       "      <td>forecast.weather.gov</td>\n",
       "      <td>Amsterdam NY. Tonight. Tonight: Increasing clo...</td>\n",
       "      <td>&lt;b&gt;Amsterdam&lt;/b&gt; NY. &lt;b&gt;Tonight&lt;/b&gt;. &lt;b&gt;Tonigh...</td>\n",
       "      <td>5iFH7-O14ZIJ</td>\n",
       "      <td>https://forecast.weather.gov/zipcity.php?input...</td>\n",
       "      <td>https://forecast.&lt;b&gt;weather&lt;/b&gt;.gov/zipcity.ph...</td>\n",
       "      <td>{'metatags': [{'dc.publisher': 'NOAA's Nationa...</td>\n",
       "    </tr>\n",
       "  </tbody>\n",
       "</table>\n",
       "</div>"
      ],
      "text/plain": [
       "                  kind                                              title  \\\n",
       "0  customsearch#result  Hourly forecast for Amsterdam, Netherlands - W...   \n",
       "1  customsearch#result  Amsterdam, North Holland, Netherlands Today, T...   \n",
       "2  customsearch#result                            Amsterdam - BBC Weather   \n",
       "3  customsearch#result  Amsterdam, Netherlands Precipitation Forecast ...   \n",
       "4  customsearch#result                                       Amsterdam NY   \n",
       "\n",
       "                                           htmlTitle  \\\n",
       "0  Hourly forecast for <b>Amsterdam</b>, Netherla...   \n",
       "1  <b>Amsterdam</b>, North Holland, Netherlands <...   \n",
       "2              <b>Amsterdam</b> - BBC <b>Weather</b>   \n",
       "3  <b>Amsterdam</b>, Netherlands Precipitation Fo...   \n",
       "4                                <b>Amsterdam</b> NY   \n",
       "\n",
       "                                                link           displayLink  \\\n",
       "0  https://www.timeanddate.com/weather/netherland...   www.timeanddate.com   \n",
       "1  https://www.accuweather.com/en/nl/amsterdam/24...   www.accuweather.com   \n",
       "2                https://www.bbc.com/weather/2759794           www.bbc.com   \n",
       "3  https://www.wunderground.com/precipitation/nl/...  www.wunderground.com   \n",
       "4  https://forecast.weather.gov/zipcity.php?input...  forecast.weather.gov   \n",
       "\n",
       "                                             snippet  \\\n",
       "0  Currently: 54 °F. Clear. (Weather station: Ams...   \n",
       "1  Get the forecast for today, tonight & tomorrow...   \n",
       "2  14-day weather forecast for Amsterdam. ... A g...   \n",
       "3  7-hour rain and snow forecast for Amsterdam, N...   \n",
       "4  Amsterdam NY. Tonight. Tonight: Increasing clo...   \n",
       "\n",
       "                                         htmlSnippet       cacheId  \\\n",
       "0  Currently: 54 °F. Clear. (<b>Weather</b> stati...  jozRYIkUDL0J   \n",
       "1  Get the forecast for <b>today</b>, <b>tonight<...  Kr10Y4yHRCYJ   \n",
       "2  14-day <b>weather</b> forecast for <b>Amsterda...           NaN   \n",
       "3  7-hour <b>rain</b> and snow forecast for <b>Am...  CmoWlzP_tCkJ   \n",
       "4  <b>Amsterdam</b> NY. <b>Tonight</b>. <b>Tonigh...  5iFH7-O14ZIJ   \n",
       "\n",
       "                                        formattedUrl  \\\n",
       "0  https://www.timeanddate.com/weather/netherland...   \n",
       "1  https://www.accuweather.com/en/nl/amsterdam/24...   \n",
       "2                https://www.bbc.com/weather/2759794   \n",
       "3  https://www.wunderground.com/precipitation/nl/...   \n",
       "4  https://forecast.weather.gov/zipcity.php?input...   \n",
       "\n",
       "                                    htmlFormattedUrl  \\\n",
       "0  https://www.timeanddate.com/<b>weather</b>/net...   \n",
       "1  https://www.accu<b>weather</b>.com/en/nl/<b>am...   \n",
       "2         https://www.bbc.com/<b>weather</b>/2759794   \n",
       "3  https://www.wunderground.com/precipitation/nl/...   \n",
       "4  https://forecast.<b>weather</b>.gov/zipcity.ph...   \n",
       "\n",
       "                                             pagemap  \n",
       "0  {'cse_thumbnail': [{'src': 'https://encrypted-...  \n",
       "1  {'cse_thumbnail': [{'src': 'https://encrypted-...  \n",
       "2  {'cse_thumbnail': [{'src': 'https://encrypted-...  \n",
       "3  {'metatags': [{'theme-color': '#1976d2', 'view...  \n",
       "4  {'metatags': [{'dc.publisher': 'NOAA's Nationa...  "
      ]
     },
     "execution_count": 25,
     "metadata": {},
     "output_type": "execute_result"
    }
   ],
   "source": [
    "query_result['items']\n",
    "import pandas as pd\n",
    "import json\n",
    " # Dict to Json to Dataframe\n",
    "pop_in_shelters = pd.read_json(json.dumps(query_result['items']))\n",
    "pop_in_shelters"
   ]
  },
  {
   "cell_type": "code",
   "execution_count": 9,
   "id": "6e9ee952",
   "metadata": {},
   "outputs": [
    {
     "data": {
      "text/plain": [
       "dict"
      ]
     },
     "execution_count": 9,
     "metadata": {},
     "output_type": "execute_result"
    }
   ],
   "source": [
    "type(query_result)"
   ]
  },
  {
   "cell_type": "code",
   "execution_count": 15,
   "id": "0152fa99",
   "metadata": {},
   "outputs": [
    {
     "name": "stdout",
     "output_type": "stream",
     "text": [
      "kind\n",
      "kind: customsearch#search\n",
      "url\n",
      "url: {'type': 'application/json', 'template': 'https://www.googleapis.com/customsearch/v1?q={searchTerms}&num={count?}&start={startIndex?}&lr={language?}&safe={safe?}&cx={cx?}&sort={sort?}&filter={filter?}&gl={gl?}&cr={cr?}&googlehost={googleHost?}&c2coff={disableCnTwTranslation?}&hq={hq?}&hl={hl?}&siteSearch={siteSearch?}&siteSearchFilter={siteSearchFilter?}&exactTerms={exactTerms?}&excludeTerms={excludeTerms?}&linkSite={linkSite?}&orTerms={orTerms?}&relatedSite={relatedSite?}&dateRestrict={dateRestrict?}&lowRange={lowRange?}&highRange={highRange?}&searchType={searchType}&fileType={fileType?}&rights={rights?}&imgSize={imgSize?}&imgType={imgType?}&imgColorType={imgColorType?}&imgDominantColor={imgDominantColor?}&alt=json'}\n",
      "queries\n",
      "queries: {'request': [{'title': 'Google Custom Search - Will it rain today in Amsterdam?', 'totalResults': '59700000', 'searchTerms': 'Will it rain today in Amsterdam?', 'count': 5, 'startIndex': 1, 'inputEncoding': 'utf8', 'outputEncoding': 'utf8', 'safe': 'off', 'cx': 'e3c7e04afcddc43ee'}], 'nextPage': [{'title': 'Google Custom Search - Will it rain today in Amsterdam?', 'totalResults': '59700000', 'searchTerms': 'Will it rain today in Amsterdam?', 'count': 5, 'startIndex': 6, 'inputEncoding': 'utf8', 'outputEncoding': 'utf8', 'safe': 'off', 'cx': 'e3c7e04afcddc43ee'}]}\n",
      "context\n",
      "context: {'title': 'm'}\n",
      "searchInformation\n",
      "searchInformation: {'searchTime': 0.421205, 'formattedSearchTime': '0.42', 'totalResults': '59700000', 'formattedTotalResults': '59,700,000'}\n",
      "items\n",
      "items: [{'kind': 'customsearch#result', 'title': 'Hourly forecast for Amsterdam, Netherlands - Weather', 'htmlTitle': 'Hourly forecast for <b>Amsterdam</b>, Netherlands - <b>Weather</b>', 'link': 'https://www.timeanddate.com/weather/netherlands/amsterdam/hourly', 'displayLink': 'www.timeanddate.com', 'snippet': '(Weather station: Amsterdam Schiphol Airport, Netherlands). See more current weather. ×. Advertising: Content continues below ad.', 'htmlSnippet': '(<b>Weather</b> station: <b>Amsterdam</b> Schiphol Airport, Netherlands). See more <b>current weather</b>. ×. Advertising: Content continues below ad.', 'cacheId': 'jozRYIkUDL0J', 'formattedUrl': 'https://www.timeanddate.com/weather/netherlands/amsterdam/hourly', 'htmlFormattedUrl': 'https://www.timeanddate.com/<b>weather</b>/netherlands/<b>amsterdam</b>/hourly', 'pagemap': {'cse_thumbnail': [{'src': 'https://encrypted-tbn1.gstatic.com/images?q=tbn:ANd9GcS-H0nLDbf8IJ81JkQy_ntAsgcEUSlY7HKXW1mnCpMsbV-ZoniP12tPcP8', 'width': '306', 'height': '165'}], 'metatags': [{'og:image': 'https://www.timeanddate.com/scripts/cityog.php?title=Hour-by-Hour%20Weather%20Forecast%20for&tint=0x007b7a&city=Amsterdam&country=Netherlands&image=amsterdam1', 'og:image:width': '1366', 'og:type': 'website', 'viewport': 'width=device-width,initial-scale=1.0', 'og:image:height': '768'}], 'cse_image': [{'src': 'https://www.timeanddate.com/scripts/cityog.php?title=Hour-by-Hour%20Weather%20Forecast%20for&tint=0x007b7a&city=Amsterdam&country=Netherlands&image=amsterdam1'}]}}, {'kind': 'customsearch#result', 'title': 'Amsterdam, North Holland, Netherlands Today, Tonight ...', 'htmlTitle': '<b>Amsterdam</b>, North Holland, Netherlands <b>Today</b>, <b>Tonight</b> ...', 'link': 'https://www.accuweather.com/en/nl/amsterdam/249758/weather-forecast/249758', 'displayLink': 'www.accuweather.com', 'snippet': \"Get the forecast for today, tonight & tomorrow's weather for Amsterdam, ... The air quality is ideal for most individuals; enjoy your normal outdoor\\xa0...\", 'htmlSnippet': 'Get the forecast for <b>today</b>, <b>tonight</b> &amp; tomorrow&#39;s <b>weather</b> for <b>Amsterdam</b>, ... The air quality <b>is</b> ideal for most individuals; enjoy your normal outdoor&nbsp;...', 'cacheId': 'Kr10Y4yHRCYJ', 'formattedUrl': 'https://www.accuweather.com/en/nl/amsterdam/249758/weather.../249758', 'htmlFormattedUrl': 'https://www.accu<b>weather</b>.com/en/nl/<b>amsterdam</b>/249758/<b>weather</b>.../249758', 'pagemap': {'cse_thumbnail': [{'src': 'https://encrypted-tbn3.gstatic.com/images?q=tbn:ANd9GcTuL3Cl1PGFBllvcwU4b4wHJPPefT6kVDqeEeO7j9LjXQpxbXqUOc2DOh1U', 'width': '225', 'height': '225'}], 'postaladdress': [{'addresslocality': 'Amstelveen', 'addressregion': 'North Holland'}, {'addresslocality': 'Haarlem', 'addressregion': 'North Holland'}, {'addresslocality': 'Utrecht', 'addressregion': 'Utrecht'}], 'metatags': [{'og:image': 'https://www.accuweather.com/images/logos/aw-logo-og-meta.png', 'twitter:app:url:iphone': 'https://apps.apple.com/US/app/id300048137?mt=8', 'twitter:app:id:googleplay': 'com.accuweather.android', 'twitter:card': 'summary', 'twitter:app:url:ipad': 'https://apps.apple.com/US/app/id300048137?mt=8', 'twitter:app:name:googleplay': 'AccuWeather Winter weather alerts & forecast radar', 'twitter:app:id:iphone': 'U7D6TVQ9TT.com.yourcompany.TestWithCustomTabs', 'og:description': \"Get the forecast for today, tonight & tomorrow's weather for Amsterdam, North Holland, Netherlands. Hi/Low, RealFeel®, precip, radar, & everything you need to be ready for the day, commute, and weekend!\", 'twitter:creator': 'https://twitter.com/accuweather', 'og:image:secure_url': 'https://www.accuweather.com/images/logos/aw-logo-og-meta.png', 'twitter:image': 'https://www.accuweather.com/images/logos/aw-logo-og-meta.png', 'twitter:text:title': \"Amsterdam, North Holland, Netherlands Today, Tonight & Tomorrow's Weather Forecast | AccuWeather\", 'twitter:site': 'https://twitter.com/accuweather', 'fb:profile_id': 'AccuWeather', 'og:type': 'website', 'twitter:title': \"Amsterdam, North Holland, Netherlands Today, Tonight & Tomorrow's Weather Forecast | AccuWeather\", 'twitter:site:id': 'https://twitter.com/accuweather', 'og:image:url': 'https://www.accuweather.com/images/logos/aw-logo-og-meta.png', 'og:title': \"Amsterdam, North Holland, Netherlands Today, Tonight & Tomorrow's Weather Forecast | AccuWeather\", 'twitter:app:id:ipad': 'U7D6TVQ9TT.com.yourcompany.TestWithCustomTabs', 'fb:pages': '71781612888', 'site_name': 'AccuWeather', 'referrer': 'origin', 'fb:app_id': '132437483467956', 'twitter:app:url:googleplay': 'https://play.google.com/store/apps/details?id=com.accuweather.android', 'twitter:creator:id': 'https://twitter.com/accuweather', 'twitter:app:name:ipad': 'AccuWeather: Weather Tracker', 'viewport': 'width=device-width, initial-scale=1.0', 'twitter:description': \"Get the forecast for today, tonight & tomorrow's weather for Amsterdam, North Holland, Netherlands. Hi/Low, RealFeel®, precip, radar, & everything you need to be ready for the day, commute, and weekend!\", 'og:url': 'https://www.accuweather.com/en/nl/amsterdam/249758/weather-forecast/249758', 'twitter:app:name:iphone': 'AccuWeather: Weather Tracker'}], 'cse_image': [{'src': 'https://www.accuweather.com/images/logos/aw-logo-og-meta.png'}]}}, {'kind': 'customsearch#result', 'title': 'Amsterdam, Netherlands Precipitation Forecast | Weather ...', 'htmlTitle': '<b>Amsterdam</b>, Netherlands Precipitation Forecast | <b>Weather</b> ...', 'link': 'https://www.wunderground.com/precipitation/nl/amsterdam', 'displayLink': 'www.wunderground.com', 'snippet': '7-hour rain and snow forecast for Amsterdam, NL with 24-hour rain accumulation, radar and satellite maps of precipitation by Weather Underground.', 'htmlSnippet': '7-hour <b>rain</b> and snow forecast for <b>Amsterdam</b>, NL with 24-hour <b>rain</b> accumulation, radar and satellite maps of precipitation by <b>Weather</b> Underground.', 'cacheId': 'CmoWlzP_tCkJ', 'formattedUrl': 'https://www.wunderground.com/precipitation/nl/amsterdam', 'htmlFormattedUrl': 'https://www.wunderground.com/precipitation/nl/<b>amsterdam</b>', 'pagemap': {'metatags': [{'theme-color': '#1976d2', 'viewport': 'width=device-width, initial-scale=1'}]}}, {'kind': 'customsearch#result', 'title': 'Amsterdam - BBC Weather', 'htmlTitle': '<b>Amsterdam</b> - BBC <b>Weather</b>', 'link': 'https://www.bbc.com/weather/2759794', 'displayLink': 'www.bbc.com', 'snippet': '14-day weather forecast for Amsterdam. ... A gentle breeze from the south. See more weather for. Saturday 22nd. Last updated today at 09:02\\xa0...', 'htmlSnippet': '14-day <b>weather</b> forecast for <b>Amsterdam</b>. ... A gentle breeze from the south. See more <b>weather</b> for. Saturday 22nd. Last updated <b>today</b> at 09:02&nbsp;...', 'formattedUrl': 'https://www.bbc.com/weather/2759794', 'htmlFormattedUrl': 'https://www.bbc.com/<b>weather</b>/2759794', 'pagemap': {'cse_thumbnail': [{'src': 'https://encrypted-tbn1.gstatic.com/images?q=tbn:ANd9GcTzYRYG9i659vlbzUwci7lpEI3U_kCp7KGN9-3SxGWg8XZYWBETHcK1bkY', 'width': '225', 'height': '225'}], 'metatags': [{'msapplication-tilecolor': '#067EB3', 'og:image': '//m.files.bbci.co.uk/modules/bbc-morph-wr-page-metadata/3.0.2/og-image.png', 'twitter:card': 'summary', 'og:type': 'article', 'twitter:site': '@BBCWeather', 'og:site_name': 'BBC Weather', 'viewport': 'width=device-width, initial-scale=1, user-scalable=1', 'og:title': 'Amsterdam - BBC Weather', 'msapplication-tileimage': '//m.files.bbci.co.uk/modules/bbc-morph-wr-page-metadata/3.0.2/pin-logo.png', 'og:url': 'https://www.bbc.com/weather/2759794', 'twitter:creator': '@BBCWeather', 'og:description': '14-day weather forecast for Amsterdam.'}], 'cse_image': [{'src': 'https://weather-tiles-basemap.files.bbci.co.uk/basemap-2018.11.05/global/7/65/86.jpg'}]}}, {'kind': 'customsearch#result', 'title': 'Amsterdam, Netherlands Weather Conditions | Weather Underground', 'htmlTitle': '<b>Amsterdam</b>, Netherlands <b>Weather</b> Conditions | <b>Weather</b> Underground', 'link': 'https://www.wunderground.com/weather/nl/amsterdam', 'displayLink': 'www.wunderground.com', 'snippet': \"Amsterdam, North Holland, Netherlands Weather Conditionsstar_ratehome ... Tomorrow's temperature is forecast to be COOLER than today. Radar; Satellite.\", 'htmlSnippet': '<b>Amsterdam</b>, North Holland, Netherlands <b>Weather</b> Conditionsstar_ratehome ... Tomorrow&#39;s temperature <b>is</b> forecast to be COOLER than <b>today</b>. Radar; Satellite.', 'cacheId': 'ObgDWFH9kfIJ', 'formattedUrl': 'https://www.wunderground.com/weather/nl/amsterdam', 'htmlFormattedUrl': 'https://www.wunderground.com/<b>weather</b>/nl/<b>amsterdam</b>', 'pagemap': {'metatags': [{'theme-color': '#1976d2', 'viewport': 'width=device-width, initial-scale=1'}]}}]\n"
     ]
    }
   ],
   "source": [
    "#Json file\n",
    "for key,value in query_result.items():\n",
    "    print(key)\n",
    "    print(key+':',value)"
   ]
  }
 ],
 "metadata": {
  "kernelspec": {
   "display_name": "Python 3.9.13 64-bit ('anaconda3')",
   "language": "python",
   "name": "python3"
  },
  "language_info": {
   "codemirror_mode": {
    "name": "ipython",
    "version": 3
   },
   "file_extension": ".py",
   "mimetype": "text/x-python",
   "name": "python",
   "nbconvert_exporter": "python",
   "pygments_lexer": "ipython3",
   "version": "3.9.13"
  },
  "vscode": {
   "interpreter": {
    "hash": "7c8805ab7fd913a29db751a2a677d12aa4d750c7bbcb5dc5150efb731e22afe3"
   }
  }
 },
 "nbformat": 4,
 "nbformat_minor": 5
}
