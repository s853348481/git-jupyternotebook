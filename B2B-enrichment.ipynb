{
 "cells": [
  {
   "cell_type": "code",
   "execution_count": 29,
   "metadata": {},
   "outputs": [],
   "source": [
    "#Config\n",
    "api_key= 'keyHeIqHcNrzkPrSK'\n",
    "base_id= 'appOGKP8Ev6l9OYgG'\n",
    "table_name = 'tblyPN8MWvlC29BuX'"
   ]
  },
  {
   "cell_type": "code",
   "execution_count": 30,
   "metadata": {},
   "outputs": [],
   "source": [
    "import config\n",
    "from pyairtable import Table, Base, Api\n",
    "table = Table(api_key, base_id, table_name)\n",
    "table.all()"
   ]
  },
  {
   "cell_type": "code",
   "execution_count": 36,
   "metadata": {},
   "outputs": [
    {
     "data": {
      "text/plain": [
       "[{'id': 'rec66bk7lnhXYpIVg',\n",
       "  'createdTime': '2022-10-18T14:51:50.000Z',\n",
       "  'fields': {'Name': 'Customer research', 'Status': 'In progress'}},\n",
       " {'id': 'recHoBx3AVjaNWJ1Z',\n",
       "  'createdTime': '2022-10-18T14:51:50.000Z',\n",
       "  'fields': {'Name': 'Campaign analysis', 'Status': 'To do'}},\n",
       " {'id': 'recO1J9WW4QQH5PVX',\n",
       "  'createdTime': '2022-10-18T14:51:50.000Z',\n",
       "  'fields': {'Name': 'Quarterly launch', 'Status': 'Done'}}]"
      ]
     },
     "execution_count": 36,
     "metadata": {},
     "output_type": "execute_result"
    }
   ],
   "source": [
    "from pyairtable import Api, Base, Table\n",
    "import json\n",
    "import pandas as pd\n",
    "def TableDF(api_key: str, base_id: str, table: str):\n",
    "    # -- setup variables\n",
    "    columns = {}\n",
    "    table = Table(API_KEY, BASE_ID, 'Epics')\n",
    "    table_data = table.all()\n",
    "    if len(table_data) > 0:\n",
    "        # -- get columns\n",
    "        columns = {}\n",
    "        for col in table_data[0][\"fields\"].keys():\n",
    "            columns[col] = []\n",
    "    \n",
    "        # -- populate dataframe\n",
    "        df = pd.DataFrame(columns)\n",
    "        for r, col in enumerate(table_data):\n",
    "            entry = {}\n",
    "            for col in table_data[r][\"fields\"].keys():\n",
    "                entry[col] = table_data[r][\"fields\"][col]\n",
    "            df = df.append(entry, ignore_index=True)\n",
    "        return df\n",
    "    else:\n",
    "        return None\n",
    "df = TableDF(API_KEY, BASE_ID, 'Epics')\n",
    "print(df[[\"Epic Name\", \"Epic Title\", \"epic_id"
   ]
  }
 ],
 "metadata": {
  "kernelspec": {
   "display_name": "Python 3.9.13 64-bit ('anaconda3')",
   "language": "python",
   "name": "python3"
  },
  "language_info": {
   "codemirror_mode": {
    "name": "ipython",
    "version": 3
   },
   "file_extension": ".py",
   "mimetype": "text/x-python",
   "name": "python",
   "nbconvert_exporter": "python",
   "pygments_lexer": "ipython3",
   "version": "3.9.13"
  },
  "orig_nbformat": 4,
  "vscode": {
   "interpreter": {
    "hash": "7c8805ab7fd913a29db751a2a677d12aa4d750c7bbcb5dc5150efb731e22afe3"
   }
  }
 },
 "nbformat": 4,
 "nbformat_minor": 2
}
